{
  "nbformat": 4,
  "nbformat_minor": 0,
  "metadata": {
    "colab": {
      "name": "visualize_linearized_model",
      "provenance": [],
      "collapsed_sections": []
    },
    "kernelspec": {
      "name": "python3",
      "display_name": "Python 3"
    },
    "language_info": {
      "name": "python"
    },
    "accelerator": "GPU"
  },
  "cells": [
    {
      "cell_type": "markdown",
      "source": [
        "# Importing Code:"
      ],
      "metadata": {
        "id": "3PT26I4XdzLN"
      }
    },
    {
      "cell_type": "code",
      "execution_count": null,
      "metadata": {
        "id": "ZpGOTlBtcLqI"
      },
      "outputs": [],
      "source": [
        "# Mount to my Google Drive\n",
        "from google.colab import drive\n",
        "import os\n",
        "import pickle\n",
        "drive.mount('/content/drive', force_remount=True)\n",
        "os.chdir(\"/content/drive/MyDrive/Yale Academic Course Work/Semester Work/Spring 2022 Semester/S&DS 492\")"
      ]
    },
    {
      "cell_type": "code",
      "source": [
        "# Import necessary packages\n",
        "# For graphing\n",
        "import tensorflow as tf\n",
        "import numpy as np\n",
        "import matplotlib.pyplot as plt\n",
        "\n",
        "# And to create animations\n",
        "import matplotlib.animation as animation\n",
        "from IPython import display"
      ],
      "metadata": {
        "id": "1MTEoMQOcatk"
      },
      "execution_count": null,
      "outputs": []
    },
    {
      "cell_type": "code",
      "source": [
        "# Import my code\n",
        "from model import Linear_Regression\n",
        "from linearized_model import Linearized_Model"
      ],
      "metadata": {
        "id": "zyyROwCLdAOV"
      },
      "execution_count": null,
      "outputs": []
    },
    {
      "cell_type": "markdown",
      "source": [
        "# Visualization with Images:"
      ],
      "metadata": {
        "id": "7W8fGhILe836"
      }
    },
    {
      "cell_type": "code",
      "source": [
        "# Fixed point at which to evaluate the networks\n",
        "x = tf.constant([1], dtype=tf.float32, shape=[1,1])\n",
        "tf.print(x)"
      ],
      "metadata": {
        "id": "0UA5yZJRetq7"
      },
      "execution_count": null,
      "outputs": []
    },
    {
      "cell_type": "code",
      "source": [
        "# Now, initialize our networks\n",
        "# Initialization scale\n",
        "alpha = 1\n",
        "# Initialization shape\n",
        "w0 = tf.ones([2, 1])\n",
        "w0 = alpha*w0\n",
        "\n",
        "# The nonlinear network\n",
        "model = Linear_Regression(w0)\n",
        "\n",
        "# And the linear network\n",
        "model_const = Linear_Regression(w0)\n",
        "model_linearized = Linearized_Model(model_const)\n",
        "\n",
        "# And evaluate them at x = 1\n",
        "tf.print(f\"Model: {model(x)}\")\n",
        "tf.print(f\"Linearized model: {model_linearized((x, model_const))}\")"
      ],
      "metadata": {
        "id": "b3XoHNUSeD6M"
      },
      "execution_count": null,
      "outputs": []
    },
    {
      "cell_type": "code",
      "source": [
        "# Generate a grid of weights at which we will evaluate the network\n",
        "Nsample = 50\n",
        "w = tf.linspace(alpha - 2, alpha + 2, Nsample)\n",
        "w_x, w_y = np.meshgrid(w, w)\n",
        "weights = np.array([w_x.ravel(),w_y.ravel()])\n",
        "weights = tf.convert_to_tensor(weights, dtype=tf.float32)\n",
        "weights = tf.transpose(weights)\n",
        "tf.print(weights)"
      ],
      "metadata": {
        "id": "6Z9CMIl_d4iS"
      },
      "execution_count": null,
      "outputs": []
    },
    {
      "cell_type": "code",
      "source": [
        "# Evaluate the networks at each of the weight vectors w\n",
        "# NOTE: this code will take a while to run\n",
        "N = int(tf.shape(weights)[0])\n",
        "output_model = np.zeros([N,1])\n",
        "output_linearized = np.zeros([N,1])\n",
        "\n",
        "for i in range(N):\n",
        "\n",
        "  if not i % 10**2:\n",
        "    print(i)\n",
        "\n",
        "  model.linear_layer_1.w = tf.reshape(weights[i,:], [-1,1])\n",
        "  output_model[i,0] = model(x)\n",
        "\n",
        "  model_linearized.linearized_layer_1.w = tf.reshape(weights[i,:], [-1,1])\n",
        "  output_linearized[i,0] = model_linearized((x, model_const))"
      ],
      "metadata": {
        "id": "jTazCSQchVPl"
      },
      "execution_count": null,
      "outputs": []
    },
    {
      "cell_type": "code",
      "source": [
        "# Reshape our one-dimensional arrays for plotting\n",
        "x = np.reshape(weights[:,0].numpy(), (Nsample,Nsample))\n",
        "y = np.reshape(weights[:,1].numpy(), (Nsample,Nsample))\n",
        "z_model = np.reshape(output_model, (Nsample,Nsample))\n",
        "z_linearized = np.reshape(output_linearized, (Nsample,Nsample))"
      ],
      "metadata": {
        "id": "o5sAYG0Hs8Mc"
      },
      "execution_count": null,
      "outputs": []
    },
    {
      "cell_type": "code",
      "source": [
        "fig = plt.figure(0)\n",
        "ax = fig.add_subplot(projection='3d')\n",
        "\n",
        "# Plot the model evaluated at each w\n",
        "ax.plot_surface(x, y, z_model, alpha=0.5)\n",
        "# And the linearized model at each w\n",
        "ax.plot_surface(x, y, z_linearized, alpha=0.5)\n",
        "# Finally, the model and linearized model intersect at w = w0\n",
        "ax.scatter(alpha, alpha, 0, color='black', s=30)\n",
        "\n",
        "ax.set_xlabel(r'$w_1$')\n",
        "ax.set_ylabel(r'$w_2$')\n",
        "ax.set_zlabel(r'$f(w_1, w_2)(1)$')\n",
        "\n",
        "ax.set_xticklabels([])\n",
        "ax.set_yticklabels([])\n",
        "ax.set_zticklabels([])\n",
        "\n",
        "ax.view_init(10, 60)\n",
        "\n",
        "plt.show()\n",
        "# Save the image as a png file\n",
        "fig.savefig('visualize_linearized_0.1.png', dpi=300)"
      ],
      "metadata": {
        "id": "1R1AHvGLs_Q-"
      },
      "execution_count": null,
      "outputs": []
    },
    {
      "cell_type": "markdown",
      "source": [
        "# Creating GIFs:"
      ],
      "metadata": {
        "id": "5NN6hJ9T9hpp"
      }
    },
    {
      "cell_type": "code",
      "source": [
        "# Function to get the grid of weights for a given initialization scale alpha and number of sample points (for each axis)\n",
        "def get_weights(alpha, Nsample):\n",
        "  w = tf.linspace(alpha - 2, alpha + 2, Nsample)\n",
        "  w_x, w_y = np.meshgrid(w, w)\n",
        "  weights = np.array([w_x.ravel(),w_y.ravel()])\n",
        "  weights = tf.convert_to_tensor(weights, dtype=tf.float32)\n",
        "  return tf.transpose(weights)"
      ],
      "metadata": {
        "id": "mg2oa1c1D5OC"
      },
      "execution_count": null,
      "outputs": []
    },
    {
      "cell_type": "code",
      "source": [
        "# GIF parameters\n",
        "Nsample = 10\n",
        "num_frames = 100\n",
        "fps = 5\n",
        "\n",
        "# Initialization\n",
        "x = tf.constant([1], dtype=tf.float32, shape=[1,1])\n",
        "w0 = tf.ones([2, 1])\n",
        "\n",
        "# Arrays to hold output values\n",
        "output_model_array = np.zeros([Nsample**2, num_frames])\n",
        "output_linearized_array = np.zeros([Nsample**2, num_frames])\n",
        "\n",
        "# Array containing initialization scales\n",
        "alphas = np.linspace(0.1, 10, num_frames)\n",
        "\n",
        "for i in range(num_frames):\n",
        "\n",
        "  if not i % 10:\n",
        "    print(i)\n",
        "  \n",
        "  # Initialize the nonlinear network\n",
        "  model = Linear_Regression(alphas[i]*w0)\n",
        "\n",
        "  # And the linear network\n",
        "  model_const = Linear_Regression(alphas[i]*w0)\n",
        "  model_linearized = Linearized_Model(model_const)\n",
        "\n",
        "  # Get the corresponding grid of weights\n",
        "  weights = get_weights(alphas[i], Nsample)\n",
        "\n",
        "  for j in range(Nsample**2):\n",
        "\n",
        "    # And evaluate the models on the grid\n",
        "    model.linear_layer_1.w = tf.reshape(weights[j,:], [-1,1])\n",
        "    output_model_array[j,i] = model(x)\n",
        "\n",
        "    model_linearized.linearized_layer_1.w = tf.reshape(weights[j,:], [-1,1])\n",
        "    output_linearized_array[j,i] = model_linearized((x, model_const))"
      ],
      "metadata": {
        "id": "PftmTTkQ_23i"
      },
      "execution_count": null,
      "outputs": []
    },
    {
      "cell_type": "code",
      "source": [
        "# Pickle the output np.ndarray objects for future use\n",
        "with open('model_output.pkl', 'rb') as f:\n",
        "    output_model_array = pickle.load(f)\n",
        "\n",
        "with open('model_linearized_output.pkl', 'rb') as f1:\n",
        "    output_linearized_array = pickle.load(f1)"
      ],
      "metadata": {
        "id": "o7MJ3PgIK1_T"
      },
      "execution_count": null,
      "outputs": []
    },
    {
      "cell_type": "code",
      "source": [
        "# And generate the GIF\n",
        "\n",
        "# Updates the plot at each frame in the GIF\n",
        "def update_plot(frame_number, zarray, plot):\n",
        "    plot[0].remove()\n",
        "    plot[1].remove()\n",
        "    plot[2].remove()\n",
        "\n",
        "    textvar.set_text(r\"$\\alpha =$\" + f\"{round(alphas[frame_number], 1)}\")\n",
        "\n",
        "    weights = get_weights(alphas[frame_number], Nsample)\n",
        "    x = np.reshape(weights[:,0].numpy(), (Nsample,Nsample))\n",
        "    y = np.reshape(weights[:,1].numpy(), (Nsample,Nsample))\n",
        "\n",
        "    plot[0] = ax.plot_surface(x, y, np.reshape(output_model_array[:,frame_number], (Nsample, Nsample)), color=\"#1f77b4\", alpha=0.5)\n",
        "    plot[1] = ax.plot_surface(x, y, np.reshape(output_linearized_array[:,frame_number], (Nsample, Nsample)), color=\"#ff7f0e\", alpha=0.5)\n",
        "    plot[2] = ax.scatter(alphas[frame_number], alphas[frame_number], 0, color='black', s=30)\n",
        "\n",
        "\n",
        "# Initialize the plot\n",
        "fig = plt.figure()\n",
        "fig.tight_layout()\n",
        "\n",
        "ax = fig.add_subplot(111, projection='3d')\n",
        "ax.set_xticks([])\n",
        "ax.set_yticks([])\n",
        "ax.set_zticks([])\n",
        "\n",
        "ax.zaxis.set_rotate_label(False) \n",
        "ax.set_xlabel(r'$w_1$', labelpad=0)\n",
        "ax.set_ylabel(r'$w_2$', labelpad=0)\n",
        "ax.set_zlabel(r'$f(w_1, w_2)(1)$', rotation=90, labelpad=0)\n",
        "\n",
        "ax.grid(False)\n",
        "textvar = ax.text2D(0.10, 0.90, r\"$\\alpha =$\" + f\"{round(alphas[0],1)}\", transform=ax.transAxes)\n",
        "\n",
        "zarray = 1\n",
        "weights = get_weights(alphas[0], Nsample)\n",
        "\n",
        "plot = [ax.plot_surface(np.reshape(weights[:,0].numpy(), (Nsample,Nsample)), np.reshape(weights[:,1].numpy(), (Nsample,Nsample)), np.reshape(output_model_array[:,0], (Nsample, Nsample)), color=\"#1f77b4\", alpha=0.5), ax.plot_surface(np.reshape(weights[:,0].numpy(), (Nsample,Nsample)), np.reshape(weights[:,1].numpy(), (Nsample,Nsample)), np.reshape(output_linearized_array[:,0], (Nsample, Nsample)), color=\"#ff7f0e\", alpha=0.5), ax.scatter(alphas[0], alphas[0], 0, color='black', s=30)]\n",
        "\n",
        "ax.view_init(10, 60)\n",
        "\n",
        "# Instantiate the animation object\n",
        "ani = animation.FuncAnimation(fig, update_plot, num_frames, fargs=(zarray, plot), interval=1000/fps)\n",
        "\n",
        "# And save it as a GIF\n",
        "ani.save('linearized_model.gif', writer='imagemagick', dpi=200)"
      ],
      "metadata": {
        "id": "g7pEze9z94ca"
      },
      "execution_count": null,
      "outputs": []
    },
    {
      "cell_type": "code",
      "source": [
        "# Visualize the GIF in the notebook file\n",
        "plt.rcParams['animation.html'] = 'html5'\n",
        "ani"
      ],
      "metadata": {
        "id": "kl_7KrjRPY2j"
      },
      "execution_count": null,
      "outputs": []
    }
  ]
}